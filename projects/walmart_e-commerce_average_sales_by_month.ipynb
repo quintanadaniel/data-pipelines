{
 "cells": [
  {
   "cell_type": "code",
   "execution_count": 7,
   "id": "020bc787-8171-4f73-aa4d-0dc75f84d81c",
   "metadata": {},
   "outputs": [],
   "source": [
    "import pandas as pd\n",
    "import os"
   ]
  },
  {
   "cell_type": "code",
   "execution_count": 23,
   "id": "3a26045c-6f0e-469e-ab3f-57248dfd8796",
   "metadata": {},
   "outputs": [],
   "source": [
    "def extract(filename: str, file_csv):\n",
    "    df_parquet = pd.read_parquet(f\"imput_files/{filename}\")\n",
    "    df_grocery_sales = pd.read_csv(f\"imput_files/{file_csv}\")\n",
    "    \n",
    "    merged_df = pd.merge(df_grocery_sales, df_parquet, on=\"index\", how=\"inner\")\n",
    "    \n",
    "    return merged_df\n",
    "\n",
    "def transform(df_merged):\n",
    "    df_merged.fillna(\n",
    "      {\n",
    "          'CPI': df_merged['CPI'].mean(),\n",
    "          'Weekly_Sales': df_merged['Weekly_Sales'].mean(),\n",
    "          'Unemployment': df_merged['Unemployment'].mean(),\n",
    "      }, inplace = True\n",
    "    )\n",
    "    df_merged[\"Date\"] = pd.to_datetime(df_merged[\"Date\"], format = \"ISO8601\")\n",
    "    df_merged[\"Month\"] = df_merged['Date'].dt.month\n",
    "    clean_data = df_merged.loc[df_merged[\"Weekly_Sales\"] > 10000, :]\n",
    "    clean_data = clean_data.drop([\"index\", \"Temperature\", \"Fuel_Price\", \"MarkDown1\", \"MarkDown2\", \"MarkDown3\", \"MarkDown4\", \"MarkDown5\", \"Type\", \"Size\", \"Date\"], axis = 1)\n",
    "    \n",
    "    return clean_data\n",
    "\n",
    "def avg_monthly_sales(cleaned_data):\n",
    "    monthly_sales = cleaned_data[[\"Month\", \"Weekly_Sales\"]]\n",
    "    agg_data = monthly_sales.groupby(\"Month\").agg(Avg_Sales=(\"Weekly_Sales\",\"mean\")).reset_index().round(2)\n",
    "    return agg_data\n",
    "\n",
    "def load(clean_data, clean_data_file_path, agg_data, agg_data_file_path):\n",
    "    clean_data.to_csv(f\"output_files/{clean_data_file_path}\", index=False)\n",
    "    agg_data.to_csv(f\"output_files/{agg_data_file_path}\", index=False)\n",
    "\n",
    "def validation(file_path):\n",
    "    current_dir = os.getcwd()\n",
    "    file_in_path = os.path.join(current_dir,\"output_files\", file_path)\n",
    "    file_exists = os.path.exists(file_in_path)\n",
    "    \n",
    "    if not file_exists:\n",
    "        raise Exception(f\"File not exists in the path {file_path}.\")"
   ]
  },
  {
   "cell_type": "code",
   "execution_count": 24,
   "id": "73032189-efe6-4361-9010-0266876bbe05",
   "metadata": {},
   "outputs": [],
   "source": [
    "# Extract the data and merge both data frame\n",
    "merged_df = extract(\"extra_data.parquet\", \"grocery_sales.csv\")\n",
    "# Clean the data\n",
    "clean_data = transform(merged_df)\n",
    "# Aggregate average month sales\n",
    "agg_data = avg_monthly_sales(clean_data)\n",
    "# Load or create files with the final data\n",
    "load(clean_data, \"clean_data.csv\", agg_data, \"agg_data.csv\")\n",
    "# Validate or testing if the files exist in the final directory\n",
    "validation(\"clean_data.csv\")\n",
    "validation(\"agg_data.csv\")"
   ]
  },
  {
   "cell_type": "code",
   "execution_count": null,
   "id": "71bb52a5-f2d5-463c-8541-0b18fed12e2a",
   "metadata": {},
   "outputs": [],
   "source": []
  }
 ],
 "metadata": {
  "kernelspec": {
   "display_name": "Python 3 (ipykernel)",
   "language": "python",
   "name": "python3"
  },
  "language_info": {
   "codemirror_mode": {
    "name": "ipython",
    "version": 3
   },
   "file_extension": ".py",
   "mimetype": "text/x-python",
   "name": "python",
   "nbconvert_exporter": "python",
   "pygments_lexer": "ipython3",
   "version": "3.11.6"
  }
 },
 "nbformat": 4,
 "nbformat_minor": 5
}
